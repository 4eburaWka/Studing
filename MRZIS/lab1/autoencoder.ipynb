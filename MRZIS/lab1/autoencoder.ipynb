{
  "cells": [
    {
      "cell_type": "code",
      "execution_count": 5,
      "metadata": {
        "id": "zwFnJsE6vjf8",
        "colab": {
          "base_uri": "https://localhost:8080/"
        },
        "outputId": "b2913e49-d962-4a20-96ef-98e53ec25ca0"
      },
      "outputs": [
        {
          "output_type": "stream",
          "name": "stdout",
          "text": [
            "Epoch [10/190], Loss: 1.2699\n",
            "Epoch [20/190], Loss: 1.2489\n",
            "Epoch [30/190], Loss: 1.2245\n",
            "Epoch [40/190], Loss: 1.1948\n",
            "Epoch [50/190], Loss: 1.1590\n",
            "Epoch [60/190], Loss: 1.1175\n",
            "Epoch [70/190], Loss: 1.0723\n",
            "Epoch [80/190], Loss: 1.0224\n",
            "Epoch [90/190], Loss: 0.9682\n",
            "Epoch [100/190], Loss: 0.9140\n",
            "Epoch [110/190], Loss: 0.8638\n",
            "Epoch [120/190], Loss: 0.8224\n",
            "Epoch [130/190], Loss: 0.7906\n",
            "Epoch [140/190], Loss: 0.7660\n",
            "Epoch [150/190], Loss: 0.7465\n",
            "Epoch [160/190], Loss: 0.7305\n",
            "Epoch [170/190], Loss: 0.7173\n",
            "Epoch [180/190], Loss: 0.7063\n",
            "Epoch [190/190], Loss: 0.6970\n",
            "Mean Squared Error (MSE): 1.225581275459998\n",
            "Mean Absolute Error (MAE): 0.6857784444788848\n"
          ]
        }
      ],
      "source": [
        "import torch\n",
        "import torch.nn as nn\n",
        "import pandas as pd\n",
        "from sklearn.preprocessing import StandardScaler\n",
        "from sklearn.metrics import mean_squared_error, mean_absolute_error\n",
        "\n",
        "class Autoencoder(nn.Module):\n",
        "    def __init__(self):\n",
        "        super(Autoencoder, self).__init__()\n",
        "        self.encoder = nn.Sequential(\n",
        "            nn.Linear(7, 4),\n",
        "            nn.ReLU(),\n",
        "            nn.Linear(4, 2),\n",
        "            nn.ReLU(),\n",
        "        )\n",
        "        self.decoder = nn.Sequential(\n",
        "            nn.Linear(2, 4),\n",
        "            nn.ReLU(),\n",
        "            nn.Linear(4, 7),\n",
        "            nn.Sigmoid()  # Применяем сигмоид для ограничения значений в диапазоне [0, 1]\n",
        "        )\n",
        "\n",
        "    def forward(self, x):\n",
        "        x = self.encoder(x)\n",
        "        x = self.decoder(x)\n",
        "        return x\n",
        "\n",
        "data = pd.read_csv(\"Seed_Data.csv\", header=None)\n",
        "X = data.iloc[:, :-1].values\n",
        "\n",
        "scaler = StandardScaler()\n",
        "X_scaled = scaler.fit_transform(X)\n",
        "\n",
        "# Конвертация данных в тензоры PyTorch\n",
        "X_tensor = torch.tensor(X_scaled, dtype=torch.float32)\n",
        "\n",
        "model = Autoencoder()\n",
        "criterion = nn.MSELoss()\n",
        "optimizer = torch.optim.Adam(model.parameters(), lr=0.003)\n",
        "\n",
        "num_epochs = 190\n",
        "for epoch in range(num_epochs):\n",
        "    model.train()\n",
        "    optimizer.zero_grad()\n",
        "    outputs = model(X_tensor)\n",
        "    loss = criterion(outputs, X_tensor)\n",
        "    loss.backward()\n",
        "    optimizer.step()\n",
        "\n",
        "    if (epoch+1) % 10 == 0:\n",
        "        print(f'Epoch [{epoch+1}/{num_epochs}], Loss: {loss.item():.4f}')\n",
        "\n",
        "# Применение модели для восстановления данных\n",
        "model.eval()\n",
        "with torch.no_grad():\n",
        "    decoded_data = model(X_tensor)\n",
        "\n",
        "# Восстановление данных и их обратное масштабирование\n",
        "decoded_data = decoded_data.numpy()\n",
        "decoded_data = scaler.inverse_transform(decoded_data)\n",
        "\n",
        "\n",
        "mse = mean_squared_error(X, decoded_data)\n",
        "# Вычисление средней абсолютной ошибки\n",
        "mae = mean_absolute_error(X, decoded_data)\n",
        "\n",
        "print(\"Mean Squared Error (MSE):\", mse)\n",
        "print(\"Mean Absolute Error (MAE):\", mae)"
      ]
    }
  ],
  "metadata": {
    "colab": {
      "name": "Welcome To Colaboratory",
      "provenance": []
    },
    "kernelspec": {
      "display_name": "Python 3",
      "name": "python3"
    }
  },
  "nbformat": 4,
  "nbformat_minor": 0
}